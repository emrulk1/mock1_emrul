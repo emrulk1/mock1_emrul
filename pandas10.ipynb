{
  "nbformat": 4,
  "nbformat_minor": 0,
  "metadata": {
    "colab": {
      "provenance": []
    },
    "kernelspec": {
      "name": "python3",
      "display_name": "Python 3"
    },
    "language_info": {
      "name": "python"
    }
  },
  "cells": [
    {
      "cell_type": "code",
      "execution_count": null,
      "metadata": {
        "id": "VN1ixL0eY2kI"
      },
      "outputs": [],
      "source": [
        "import pandas as pd\n",
        "\n",
        "# create a sample datset\n",
        "data = {'Name' : ['Alice', 'Bob', 'Charlie', 'David', 'Eve'],\n",
        "        'Age' : [25, 32, 18, 47, 33],\n",
        "        'City' : ['New York', 'Paris', 'London', 'Tokyo', 'Sydney']}\n",
        "\n",
        "df = pd.DataFrame(data)\n",
        "\n",
        "# export dataframe as csv\n",
        "df.to_csv('sample_data.csv', index=False)"
      ]
    }
  ]
}