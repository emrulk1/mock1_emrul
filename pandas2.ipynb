{
  "nbformat": 4,
  "nbformat_minor": 0,
  "metadata": {
    "colab": {
      "provenance": []
    },
    "kernelspec": {
      "name": "python3",
      "display_name": "Python 3"
    },
    "language_info": {
      "name": "python"
    }
  },
  "cells": [
    {
      "cell_type": "code",
      "execution_count": null,
      "metadata": {
        "colab": {
          "base_uri": "https://localhost:8080/"
        },
        "id": "57W2XX0VRmEl",
        "outputId": "599ede8b-5285-4396-a291-720b34713c5d"
      },
      "outputs": [
        {
          "output_type": "stream",
          "name": "stdout",
          "text": [
            "      Name  Age  ID      City  Salary\n",
            "0    Alice   25   5  New York   50000\n",
            "1      Bob   32   1     Paris   60000\n",
            "2  Charlie   18   4    London   55000\n",
            "3    David   47   2     Tokyo   57000\n",
            "4      Eve   33   3    Sydney   40000\n",
            "\n",
            "Sliced df after selecting a list of columns: \n",
            "   Age  ID  Salary\n",
            "0   25   5   50000\n",
            "1   32   1   60000\n",
            "2   18   4   55000\n",
            "3   47   2   57000\n",
            "4   33   3   40000\n",
            "\n",
            "Sliced df after selecting a list of column names: \n",
            "   Age      City\n",
            "0   25  New York\n",
            "1   32     Paris\n",
            "2   18    London\n",
            "3   47     Tokyo\n",
            "4   33    Sydney\n",
            "\n",
            "Sliced df after selecting a range of columns: \n",
            "   Age  ID\n",
            "0   25   5\n",
            "1   32   1\n",
            "2   18   4\n",
            "3   47   2\n",
            "4   33   3\n"
          ]
        }
      ],
      "source": [
        "import pandas as pd\n",
        "\n",
        "# create a sample datset\n",
        "data = {'Name' : ['Alice', 'Bob', 'Charlie', 'David', 'Eve'],\n",
        "        'Age' : [25, 32, 18, 47, 33],\n",
        "        'ID' : [5, 1, 4, 2, 3],\n",
        "        'City' : ['New York', 'Paris', 'London', 'Tokyo', 'Sydney'],\n",
        "        'Salary': [50000, 60000, 55000, 57000, 40000],\n",
        "        }\n",
        "\n",
        "df = pd.DataFrame(data)\n",
        "\n",
        "# display the dataset\n",
        "print(df)\n",
        "print()\n",
        "\n",
        "# filter df using a list of column index from dataframe\n",
        "selected_columns = [1,2,4]\n",
        "sliced_df = df.iloc[:, selected_columns]\n",
        "print(\"Sliced df after selecting a list of columns: \")\n",
        "print(sliced_df)\n",
        "print()\n",
        "\n",
        "# filter df from a list of column names from dataframe\n",
        "selected_columns = [\"Age\", \"City\"]\n",
        "sliced_df = df[selected_columns]\n",
        "print(\"Sliced df after selecting a list of column names: \")\n",
        "print(sliced_df)\n",
        "print()\n",
        "\n",
        "# select a range of columns from dataframe\n",
        "sliced_df = df.iloc[:, 1:3]\n",
        "print(\"Sliced df after selecting a range of columns: \")\n",
        "print(sliced_df)"
      ]
    }
  ]
}