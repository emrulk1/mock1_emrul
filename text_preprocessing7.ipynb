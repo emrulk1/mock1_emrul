{
  "nbformat": 4,
  "nbformat_minor": 0,
  "metadata": {
    "colab": {
      "provenance": []
    },
    "kernelspec": {
      "name": "python3",
      "display_name": "Python 3"
    },
    "language_info": {
      "name": "python"
    }
  },
  "cells": [
    {
      "cell_type": "code",
      "execution_count": 2,
      "metadata": {
        "colab": {
          "base_uri": "https://localhost:8080/"
        },
        "id": "Ds86hzLk6u_O",
        "outputId": "1564390a-34d1-4408-9f58-bb11ea8e92e7"
      },
      "outputs": [
        {
          "output_type": "stream",
          "name": "stdout",
          "text": [
            "original Text: \n",
            "Hello123 world456\n",
            "Cleaned Text: \n",
            "Hello world\n"
          ]
        }
      ],
      "source": [
        "# example of removing neumeric values from text\n",
        "import re\n",
        "\n",
        "def remove_numeric_values(text):\n",
        "    return re.sub(r'\\d+', '', text)\n",
        "\n",
        "# Example usage:\n",
        "text = \"Hello123 world456\"\n",
        "print(\"Original Text: \")\n",
        "print(text)\n",
        "print(\"Cleaned Text: \")\n",
        "cleaned_text = remove_numeric_values(text)\n",
        "print(cleaned_text)"
      ]
    }
  ]
}