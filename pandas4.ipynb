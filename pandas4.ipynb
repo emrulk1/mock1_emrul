{
  "nbformat": 4,
  "nbformat_minor": 0,
  "metadata": {
    "colab": {
      "provenance": []
    },
    "kernelspec": {
      "name": "python3",
      "display_name": "Python 3"
    },
    "language_info": {
      "name": "python"
    }
  },
  "cells": [
    {
      "cell_type": "code",
      "execution_count": 7,
      "metadata": {
        "colab": {
          "base_uri": "https://localhost:8080/"
        },
        "id": "6aM9iOitqNxO",
        "outputId": "76c3398f-b81f-4377-8de4-7d46c686c8d9"
      },
      "outputs": [
        {
          "output_type": "stream",
          "name": "stdout",
          "text": [
            "   A  B         C\n",
            "0  1  1  0.362838\n",
            "1  1  2  0.227877\n",
            "2  2  3  1.267767\n",
            "3  2  4 -0.562860\n",
            "     B         C\n",
            "A               \n",
            "1  1.5  0.295357\n",
            "2  3.5  0.352454\n",
            "     B         C\n",
            "A               \n",
            "1  1.5  0.590715\n",
            "2  3.5  0.704907\n",
            "     B         C\n",
            "A               \n",
            "1  3.5  3.590715\n",
            "2  5.5  3.704907\n"
          ]
        }
      ],
      "source": [
        "import pandas as pd\n",
        "data = {\"A\": [1, 1, 2, 2],\n",
        "\n",
        "        \"B\": [1, 2, 3, 4],\n",
        "\n",
        "        \"C\": [0.362838, 0.227877, 1.267767, -0.562860]}\n",
        "\n",
        "df = pd.DataFrame(data)\n",
        "\n",
        "print(df)\n",
        "\n",
        "# group data in a DataFrame by a specific column and apply an aggregate function\n",
        "\n",
        "grouped_df = df.groupby(\"A\").mean()\n",
        "print(grouped_df)\n",
        "\n",
        "# another way to group and apply aggegate function:\n",
        "grouped_df2 = df.groupby(\"A\").agg({\"B\": \"mean\", \"C\": \"sum\"})\n",
        "print(grouped_df2)\n",
        "\n",
        "def f1(x):\n",
        "    return x.mean() + 2\n",
        "\n",
        "def f2(x):\n",
        "    return x.sum() + 3\n",
        "\n",
        "# group and apply custom aggegate function and lambda:\n",
        "grouped_df3 = df.groupby(\"A\").agg({\"B\": lambda x: f1(x), \"C\": lambda x: f2(x)})\n",
        "print(grouped_df3)"
      ]
    }
  ]
}