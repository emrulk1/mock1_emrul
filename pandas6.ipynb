{
  "nbformat": 4,
  "nbformat_minor": 0,
  "metadata": {
    "colab": {
      "provenance": []
    },
    "kernelspec": {
      "name": "python3",
      "display_name": "Python 3"
    },
    "language_info": {
      "name": "python"
    }
  },
  "cells": [
    {
      "cell_type": "code",
      "execution_count": 2,
      "metadata": {
        "colab": {
          "base_uri": "https://localhost:8080/"
        },
        "id": "F2G0ykYy65mb",
        "outputId": "76b2231c-a76f-4265-dc4e-91d767d10cfa"
      },
      "outputs": [
        {
          "output_type": "stream",
          "name": "stdout",
          "text": [
            "Original DataFrame:\n",
            "     A    B    C  D\n",
            "0  1.0  NaN  1.0  1\n",
            "1  2.0  2.0  2.0  2\n",
            "2  NaN  3.0  3.0  3\n",
            "3  4.0  4.0  NaN  4\n",
            "4  5.0  5.0  5.0  5\n",
            "\n",
            "DataFrame with rows dropped:\n",
            "     A    B    C  D\n",
            "1  2.0  2.0  2.0  2\n",
            "4  5.0  5.0  5.0  5\n",
            "\n",
            "DataFrame with columns dropped:\n",
            "   D\n",
            "0  1\n",
            "1  2\n",
            "2  3\n",
            "3  4\n",
            "4  5\n",
            "\n",
            "DataFrame with missing values filled with 0:\n",
            "     A    B    C  D\n",
            "0  1.0  0.0  1.0  1\n",
            "1  2.0  2.0  2.0  2\n",
            "2  0.0  3.0  3.0  3\n",
            "3  4.0  4.0  0.0  4\n",
            "4  5.0  5.0  5.0  5\n",
            "\n",
            "DataFrame with missing values filled with column mean:\n",
            "     A    B     C  D\n",
            "0  1.0  3.5  1.00  1\n",
            "1  2.0  2.0  2.00  2\n",
            "2  3.0  3.0  3.00  3\n",
            "3  4.0  4.0  2.75  4\n",
            "4  5.0  5.0  5.00  5\n",
            "\n",
            "DataFrame with forward fill:\n",
            "     A    B    C  D\n",
            "0  1.0  NaN  1.0  1\n",
            "1  2.0  2.0  2.0  2\n",
            "2  2.0  3.0  3.0  3\n",
            "3  4.0  4.0  3.0  4\n",
            "4  5.0  5.0  5.0  5\n",
            "\n",
            "DataFrame with backward fill:\n",
            "     A    B    C  D\n",
            "0  1.0  2.0  1.0  1\n",
            "1  2.0  2.0  2.0  2\n",
            "2  4.0  3.0  3.0  3\n",
            "3  4.0  4.0  5.0  4\n",
            "4  5.0  5.0  5.0  5\n"
          ]
        }
      ],
      "source": [
        "import pandas as pd\n",
        "import numpy as np\n",
        "\n",
        "# Sample DataFrame with missing values\n",
        "data = {\n",
        "    'A': [1, 2, np.nan, 4, 5],\n",
        "    'B': [np.nan, 2, 3, 4, 5],\n",
        "    'C': [1, 2, 3, np.nan, 5],\n",
        "    'D': [1, 2, 3, 4, 5]\n",
        "}\n",
        "\n",
        "df = pd.DataFrame(data)\n",
        "\n",
        "# 1. Removing rows with any missing values\n",
        "df_dropped_rows = df.dropna()\n",
        "\n",
        "# 2. Removing columns with any missing values\n",
        "df_dropped_columns = df.dropna(axis=1)\n",
        "\n",
        "# 3. Filling missing values with a specific value (e.g., 0)\n",
        "df_filled_zero = df.fillna(0)\n",
        "\n",
        "# 4. Filling missing values with the mean of the column\n",
        "df_filled_mean = df.fillna(df.mean())\n",
        "\n",
        "# 5. Forward fill (propagate next values forward)\n",
        "df_forward_fill = df.fillna(method='ffill')\n",
        "\n",
        "# 6. Backward fill (propagate previous values backward)\n",
        "df_backward_fill = df.fillna(method='bfill')\n",
        "\n",
        "# Displaying the results\n",
        "print(\"Original DataFrame:\")\n",
        "print(df)\n",
        "print(\"\\nDataFrame with rows dropped:\")\n",
        "print(df_dropped_rows)\n",
        "print(\"\\nDataFrame with columns dropped:\")\n",
        "print(df_dropped_columns)\n",
        "print(\"\\nDataFrame with missing values filled with 0:\")\n",
        "print(df_filled_zero)\n",
        "print(\"\\nDataFrame with missing values filled with column mean:\")\n",
        "print(df_filled_mean)\n",
        "print(\"\\nDataFrame with forward fill:\")\n",
        "print(df_forward_fill)\n",
        "print(\"\\nDataFrame with backward fill:\")\n",
        "print(df_backward_fill)\n"
      ]
    },
    {
      "cell_type": "markdown",
      "source": [
        "### Refrerences\n",
        "\n",
        "- https://www.programiz.com/python-programming/pandas/handle-missing-values\n",
        "-https://www.geeksforgeeks.org/working-with-missing-data-in-pandas/"
      ],
      "metadata": {
        "id": "ogzpwRpmXV2h"
      }
    }
  ]
}