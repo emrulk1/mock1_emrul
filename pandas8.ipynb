{
  "nbformat": 4,
  "nbformat_minor": 0,
  "metadata": {
    "colab": {
      "provenance": []
    },
    "kernelspec": {
      "name": "python3",
      "display_name": "Python 3"
    },
    "language_info": {
      "name": "python"
    }
  },
  "cells": [
    {
      "cell_type": "markdown",
      "source": [
        "Loc and iloc are used to slice a data set in a Pandas DataFrame.\n",
        "\n",
        "**iloc**: Uses integer-based indexing; end values are exclusive.\n",
        "\n",
        "**loc**: Uses label-based indexing; end values are inclusive."
      ],
      "metadata": {
        "id": "C0rRrZQNYOPg"
      }
    },
    {
      "cell_type": "code",
      "source": [
        "import pandas as pd\n",
        "\n",
        "df = pd.DataFrame({'A': [5, 1, 3, 2, 4],\n",
        "                   'B': ['a', 'b', 'c', 'd', 'e'],\n",
        "                   'C': [0.1, 0.2, 0.3, 0.4, 0.5],\n",
        "                   'D': [101, 102, 103, 104, 105],\n",
        "                   })\n",
        "\n",
        "# difference between loc and iloc\n",
        "print('using loc')\n",
        "print(df.loc[1, 'B'])\n",
        "# print('using iloc')\n",
        "# print(df.iloc[1, 'B']) # not possible\n",
        "print('using iloc')\n",
        "print(df.iloc[1, 1])\n",
        "print()\n",
        "\n",
        "# multiple values\n",
        "\n",
        "print('using loc')\n",
        "print(df.loc[[0, 2], ['A', 'C']])\n",
        "print('using iloc')\n",
        "print(df.iloc[[0, 2], [0, 2]])\n",
        "print()\n",
        "\n",
        "# multiple values in range\n",
        "print('using loc')\n",
        "print(df.loc[0:2, 'A':'C'])\n",
        "print('using iloc')\n",
        "print(df.iloc[0:3, 0:3])\n"
      ],
      "metadata": {
        "colab": {
          "base_uri": "https://localhost:8080/"
        },
        "id": "jyRDYgd7aLZH",
        "outputId": "e5c120e3-3e32-49d1-aa25-e1a4fc539448"
      },
      "execution_count": 18,
      "outputs": [
        {
          "output_type": "stream",
          "name": "stdout",
          "text": [
            "using loc\n",
            "b\n",
            "using iloc\n",
            "b\n",
            "\n",
            "using loc\n",
            "   A    C\n",
            "0  5  0.1\n",
            "2  3  0.3\n",
            "using iloc\n",
            "   A    C\n",
            "0  5  0.1\n",
            "2  3  0.3\n",
            "\n",
            "using loc\n",
            "   A  B    C\n",
            "0  5  a  0.1\n",
            "1  1  b  0.2\n",
            "2  3  c  0.3\n",
            "using iloc\n",
            "   A  B    C\n",
            "0  5  a  0.1\n",
            "1  1  b  0.2\n",
            "2  3  c  0.3\n"
          ]
        }
      ]
    }
  ]
}