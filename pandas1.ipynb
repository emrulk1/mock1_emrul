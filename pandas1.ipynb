{
  "nbformat": 4,
  "nbformat_minor": 0,
  "metadata": {
    "colab": {
      "provenance": []
    },
    "kernelspec": {
      "name": "python3",
      "display_name": "Python 3"
    },
    "language_info": {
      "name": "python"
    }
  },
  "cells": [
    {
      "cell_type": "code",
      "execution_count": null,
      "metadata": {
        "colab": {
          "base_uri": "https://localhost:8080/"
        },
        "id": "fnqPSDlGPDxN",
        "outputId": "2dd9490f-8a81-4a67-b3aa-b2959a8d2c9b"
      },
      "outputs": [
        {
          "output_type": "stream",
          "name": "stdout",
          "text": [
            "      name  age           city\n",
            "0    Alice   30       New York\n",
            "1      Bob   25    Los Angeles\n",
            "2  Charlie   35        Chicago\n",
            "3    Diana   28  San Francisco\n",
            "4   Edward   40         Boston\n"
          ]
        }
      ],
      "source": [
        "import pandas as pd\n",
        "import os\n",
        "\n",
        "# Load the dataset\n",
        "csv_path = os.path.join(os.getcwd(), 'dummy_data.csv')\n",
        "df = pd.read_csv(csv_path)\n",
        "print(df)"
      ]
    },
    {
      "cell_type": "code",
      "source": [],
      "metadata": {
        "id": "6uXgFDBkQ3t9"
      },
      "execution_count": null,
      "outputs": []
    }
  ]
}