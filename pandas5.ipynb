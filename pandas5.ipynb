{
  "nbformat": 4,
  "nbformat_minor": 0,
  "metadata": {
    "colab": {
      "provenance": []
    },
    "kernelspec": {
      "name": "python3",
      "display_name": "Python 3"
    },
    "language_info": {
      "name": "python"
    }
  },
  "cells": [
    {
      "cell_type": "code",
      "execution_count": 6,
      "metadata": {
        "colab": {
          "base_uri": "https://localhost:8080/"
        },
        "id": "dJdlp3rOCaLW",
        "outputId": "dfe3914b-9cd1-41be-ee22-b279d09a9113"
      },
      "outputs": [
        {
          "output_type": "stream",
          "name": "stdout",
          "text": [
            "df1 :\n",
            "      Name  ID Country\n",
            "0    Alice   1     USA\n",
            "1      Bob   2      UK\n",
            "2  Charlie   3  France\n",
            "\n",
            "df2 :\n",
            "   ID  Salary\n",
            "0   1   50000\n",
            "1   2   60000\n",
            "2   4   55000\n"
          ]
        }
      ],
      "source": [
        "import pandas as pd\n",
        "\n",
        "# create two sample dataframes\n",
        "\n",
        "df1 = pd.DataFrame({'Name': ['Alice', 'Bob', 'Charlie'],\n",
        "                   'ID': [1, 2, 3],\n",
        "                    'Country': ['USA', 'UK', 'France']})\n",
        "\n",
        "df2 = pd.DataFrame({'ID': [1, 2, 4],\n",
        "                   'Salary': [50000, 60000, 55000]})\n",
        "\n",
        "print(\"df1 :\")\n",
        "print(df1)\n",
        "print()\n",
        "print(\"df2 :\")\n",
        "print(df2)"
      ]
    },
    {
      "cell_type": "markdown",
      "source": [
        "## Inner Join:\n"
      ],
      "metadata": {
        "id": "xvA5V2tbDCff"
      }
    },
    {
      "cell_type": "code",
      "source": [
        "# Perform inner join\n",
        "merged_df = pd.merge(df1, df2, on='ID', how='inner')\n",
        "print(\"Inner Join: \")\n",
        "print(merged_df)\n",
        "print()"
      ],
      "metadata": {
        "colab": {
          "base_uri": "https://localhost:8080/"
        },
        "id": "6JMxb1TEDBi-",
        "outputId": "ce0430ba-41e6-4cba-ba22-a8b97649a404"
      },
      "execution_count": 2,
      "outputs": [
        {
          "output_type": "stream",
          "name": "stdout",
          "text": [
            "Inner Join: \n",
            "    Name  ID Country  Salary\n",
            "0  Alice   1     USA   50000\n",
            "1    Bob   2      UK   60000\n",
            "\n"
          ]
        }
      ]
    },
    {
      "cell_type": "markdown",
      "source": [
        "**Left Join**:"
      ],
      "metadata": {
        "id": "wmw3I9o_DoXc"
      }
    },
    {
      "cell_type": "code",
      "source": [
        "# Perform left join:\n",
        "merged_df = pd.merge(df1, df2, on='ID', how='left')\n",
        "print(\"Left Join: \")\n",
        "print(merged_df)\n",
        "print()"
      ],
      "metadata": {
        "colab": {
          "base_uri": "https://localhost:8080/"
        },
        "id": "PxCSjL69DvYV",
        "outputId": "9bbfd597-ebc5-4303-c933-b6183b649b12"
      },
      "execution_count": 3,
      "outputs": [
        {
          "output_type": "stream",
          "name": "stdout",
          "text": [
            "Left Join: \n",
            "      Name  ID Country   Salary\n",
            "0    Alice   1     USA  50000.0\n",
            "1      Bob   2      UK  60000.0\n",
            "2  Charlie   3  France      NaN\n",
            "\n"
          ]
        }
      ]
    },
    {
      "cell_type": "markdown",
      "source": [
        "**Right Join**"
      ],
      "metadata": {
        "id": "j-vCiFitD42-"
      }
    },
    {
      "cell_type": "code",
      "source": [
        "# Perform right join:\n",
        "merged_df = pd.merge(df1, df2, on='ID', how='right')\n",
        "print(\"Right Join: \")\n",
        "print(merged_df)\n",
        "print()"
      ],
      "metadata": {
        "colab": {
          "base_uri": "https://localhost:8080/"
        },
        "id": "tiUmgfk2D2ff",
        "outputId": "6ebc6a70-1192-4cb0-f4d9-4e9fda60f0d4"
      },
      "execution_count": 4,
      "outputs": [
        {
          "output_type": "stream",
          "name": "stdout",
          "text": [
            "Right Join: \n",
            "    Name  ID Country  Salary\n",
            "0  Alice   1     USA   50000\n",
            "1    Bob   2      UK   60000\n",
            "2    NaN   4     NaN   55000\n",
            "\n"
          ]
        }
      ]
    },
    {
      "cell_type": "markdown",
      "source": [
        "**Outer Join**"
      ],
      "metadata": {
        "id": "1-MO498YEHbC"
      }
    },
    {
      "cell_type": "code",
      "source": [
        "# Perform right join:\n",
        "merged_df = pd.merge(df1, df2, on='ID', how='right')\n",
        "print(\"Right Join: \")\n",
        "print(merged_df)\n",
        "print()\n",
        "\n",
        "# Perform outer join:\n",
        "merged_df = pd.merge(df1, df2, on='ID', how='outer')\n",
        "print(\"Outer Join: \")\n",
        "print(merged_df)"
      ],
      "metadata": {
        "colab": {
          "base_uri": "https://localhost:8080/"
        },
        "id": "da9JrAP5EK-q",
        "outputId": "f5463652-fc40-4a22-d45d-64ef4da8e5b1"
      },
      "execution_count": 5,
      "outputs": [
        {
          "output_type": "stream",
          "name": "stdout",
          "text": [
            "Right Join: \n",
            "    Name  ID Country  Salary\n",
            "0  Alice   1     USA   50000\n",
            "1    Bob   2      UK   60000\n",
            "2    NaN   4     NaN   55000\n",
            "\n",
            "Outer Join: \n",
            "      Name  ID Country   Salary\n",
            "0    Alice   1     USA  50000.0\n",
            "1      Bob   2      UK  60000.0\n",
            "2  Charlie   3  France      NaN\n",
            "3      NaN   4     NaN  55000.0\n"
          ]
        }
      ]
    },
    {
      "cell_type": "code",
      "source": [
        "from IPython.display import Image\n",
        "from IPython.core.display import HTML\n",
        "Image(url= \"https://i.sstatic.net/hMKKt.jpg\")"
      ],
      "metadata": {
        "colab": {
          "base_uri": "https://localhost:8080/",
          "height": 341
        },
        "id": "E1B5fttyGt0G",
        "outputId": "c3e7cff9-c605-49f0-8079-153531f5cc4f"
      },
      "execution_count": 13,
      "outputs": [
        {
          "output_type": "execute_result",
          "data": {
            "text/html": [
              "<img src=\"https://i.sstatic.net/hMKKt.jpg\"/>"
            ],
            "text/plain": [
              "<IPython.core.display.Image object>"
            ]
          },
          "metadata": {},
          "execution_count": 13
        }
      ]
    }
  ]
}