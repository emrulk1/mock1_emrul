{
  "nbformat": 4,
  "nbformat_minor": 0,
  "metadata": {
    "colab": {
      "provenance": []
    },
    "kernelspec": {
      "name": "python3",
      "display_name": "Python 3"
    },
    "language_info": {
      "name": "python"
    }
  },
  "cells": [
    {
      "cell_type": "code",
      "execution_count": 6,
      "metadata": {
        "colab": {
          "base_uri": "https://localhost:8080/"
        },
        "id": "57W2XX0VRmEl",
        "outputId": "274d4e3d-e656-4b37-90c3-a5b074fb14c5"
      },
      "outputs": [
        {
          "output_type": "stream",
          "name": "stdout",
          "text": [
            "      Name  Age      City\n",
            "0    Alice   25  New York\n",
            "1      Bob   32     Paris\n",
            "2  Charlie   18    London\n",
            "3    David   47     Tokyo\n",
            "4      Eve   33    Sydney\n",
            "\n",
            "      Name  Age    City\n",
            "1      Bob   32   Paris\n",
            "2  Charlie   18  London\n",
            "4      Eve   33  Sydney\n",
            "\n",
            "Sliced df after selecting a range of rows: \n",
            "      Name  Age    City\n",
            "1      Bob   32   Paris\n",
            "2  Charlie   18  London\n"
          ]
        }
      ],
      "source": [
        "import pandas as pd\n",
        "\n",
        "# create a sample datset\n",
        "data = {'Name' : ['Alice', 'Bob', 'Charlie', 'David', 'Eve'],\n",
        "        'Age' : [25, 32, 18, 47, 33],\n",
        "        'City' : ['New York', 'Paris', 'London', 'Tokyo', 'Sydney']}\n",
        "\n",
        "df = pd.DataFrame(data)\n",
        "\n",
        "# display the dataset\n",
        "print(df)\n",
        "print()\n",
        "\n",
        "selected_rows = [1,2,4]\n",
        "sliced_df = df.iloc[selected_rows]\n",
        "print(sliced_df)\n",
        "print()\n",
        "\n",
        "# select a range of rows from dataframe\n",
        "sliced_df = df.iloc[1:3]\n",
        "print(\"Sliced df after selecting a range of rows: \")\n",
        "print(sliced_df)"
      ]
    }
  ]
}