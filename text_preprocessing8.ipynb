{
  "nbformat": 4,
  "nbformat_minor": 0,
  "metadata": {
    "colab": {
      "provenance": []
    },
    "kernelspec": {
      "name": "python3",
      "display_name": "Python 3"
    },
    "language_info": {
      "name": "python"
    }
  },
  "cells": [
    {
      "cell_type": "code",
      "execution_count": 4,
      "metadata": {
        "id": "jHg9HCTc8ZnW",
        "colab": {
          "base_uri": "https://localhost:8080/"
        },
        "outputId": "a61bfe81-ee52-4a1e-efba-190239ece3db"
      },
      "outputs": [
        {
          "output_type": "stream",
          "name": "stdout",
          "text": [
            "Normalized Text: i love it so much. do you love it to?\n",
            "Tokenized text: ['i', 'love', 'it', 'so', 'much', '.', 'do', 'you', 'love', 'it', 'to', '?']\n"
          ]
        },
        {
          "output_type": "stream",
          "name": "stderr",
          "text": [
            "[nltk_data] Downloading package punkt to /root/nltk_data...\n",
            "[nltk_data]   Package punkt is already up-to-date!\n"
          ]
        }
      ],
      "source": [
        "import re\n",
        "import nltk\n",
        "from nltk.tokenize import word_tokenize\n",
        "\n",
        "# Make sure to download the necessary resources\n",
        "nltk.download('punkt')\n",
        "\n",
        "# Define normalization rules\n",
        "def normalize(text):\n",
        "    #convert to lowercase\n",
        "    text = text.lower()\n",
        "    # replace repeated characters. for ex: loveeeeee to love\n",
        "    text = re.sub(r'(.)\\1+', r'\\1', text)\n",
        "    # replace slang, e.g luv -> love\n",
        "    text = re.sub(r'luv', 'love', text)\n",
        "    return text\n",
        "\n",
        "# Sample text\n",
        "text = \"I loveeee it sooo muchh. Do yoU luv it too?\"\n",
        "\n",
        "# Normalize the text\n",
        "normalized_text = normalize(text)\n",
        "\n",
        "# Tokenize the normalized text\n",
        "tokens = word_tokenize(normalized_text)\n",
        "\n",
        "# Print the Normalized and tokinized text\n",
        "print(\"Normalized Text:\", normalized_text)\n",
        "print(\"Tokenized text:\", tokens)"
      ]
    }
  ]
}