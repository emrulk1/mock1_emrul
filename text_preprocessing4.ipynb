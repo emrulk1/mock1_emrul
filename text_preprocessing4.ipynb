{
  "nbformat": 4,
  "nbformat_minor": 0,
  "metadata": {
    "colab": {
      "provenance": []
    },
    "kernelspec": {
      "name": "python3",
      "display_name": "Python 3"
    },
    "language_info": {
      "name": "python"
    }
  },
  "cells": [
    {
      "cell_type": "code",
      "execution_count": 8,
      "metadata": {
        "colab": {
          "base_uri": "https://localhost:8080/"
        },
        "id": "N-u-wYVNurdO",
        "outputId": "fb20d397-e43f-4fee-db1a-810feb7d899e"
      },
      "outputs": [
        {
          "output_type": "stream",
          "name": "stdout",
          "text": [
            "Cleaned Text: Hello Check out my website httpexamplecom Its awesome excited user 100\n",
            "\n"
          ]
        },
        {
          "output_type": "stream",
          "name": "stderr",
          "text": [
            "[nltk_data] Downloading package punkt to /root/nltk_data...\n",
            "[nltk_data]   Package punkt is already up-to-date!\n"
          ]
        }
      ],
      "source": [
        "import re\n",
        "import nltk\n",
        "\n",
        "# Make sure to download the necessary resources\n",
        "nltk.download('punkt')\n",
        "\n",
        "# Sample text\n",
        "text = \"Hello! Check out my website: http://example.com. It's awesome! excited @user $100.\"\n",
        "\n",
        "# Define a regular expression pattern to remove punctuations and special characters\n",
        "# punctuation_pattern = r\"[^\\w\\s]\"\n",
        "punctuation_pattern = r\"[^a-zA-Z0-9\\s]\"\n",
        "\n",
        "# Remove punctuations and special characters\n",
        "cleaned_text = re.sub(punctuation_pattern, '', text)\n",
        "\n",
        "# Print the cleaned text and tokenized text\n",
        "print(\"Cleaned Text:\", cleaned_text)\n",
        "print()"
      ]
    }
  ]
}