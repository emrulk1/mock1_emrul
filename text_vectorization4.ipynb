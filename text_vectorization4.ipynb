{
  "nbformat": 4,
  "nbformat_minor": 0,
  "metadata": {
    "colab": {
      "provenance": []
    },
    "kernelspec": {
      "name": "python3",
      "display_name": "Python 3"
    },
    "language_info": {
      "name": "python"
    }
  },
  "cells": [
    {
      "cell_type": "code",
      "execution_count": 3,
      "metadata": {
        "colab": {
          "base_uri": "https://localhost:8080/"
        },
        "id": "-pRSS9SzgwX1",
        "outputId": "6d287866-a346-4b7a-9506-b03453057f90"
      },
      "outputs": [
        {
          "output_type": "stream",
          "name": "stdout",
          "text": [
            "Text Corpus: \n",
            "['I love to learn machine learning', 'I love machine learning', 'Machine learning is fascinating']\n",
            "\n",
            "TF-IDF Matrix:\n",
            "[[0.         0.         0.55249005 0.32630952 0.42018292 0.32630952\n",
            "  0.55249005]\n",
            " [0.         0.         0.         0.52284231 0.67325467 0.52284231\n",
            "  0.        ]\n",
            " [0.6088451  0.6088451  0.         0.35959372 0.         0.35959372\n",
            "  0.        ]]\n",
            "\n",
            "Feature Names:\n",
            "['fascinating' 'is' 'learn' 'learning' 'love' 'machine' 'to']\n"
          ]
        }
      ],
      "source": [
        "from sklearn.feature_extraction.text import TfidfVectorizer\n",
        "\n",
        "# Example text corpus\n",
        "corpus = [\n",
        "    \"I love to learn machine learning\",\n",
        "    \"I love machine learning\",\n",
        "    \"Machine learning is fascinating\"\n",
        "]\n",
        "print(\"Text Corpus: \")\n",
        "print(corpus)\n",
        "print()\n",
        "\n",
        "# Create a TF-IDF vectorizer\n",
        "vectorizer = TfidfVectorizer()\n",
        "\n",
        "# Fit and transform the corpus\n",
        "tfidf_matrix = vectorizer.fit_transform(corpus)\n",
        "\n",
        "# Get the feature names (words)\n",
        "feature_names = vectorizer.get_feature_names_out()\n",
        "\n",
        "# Print the TF-IDF matrix\n",
        "print(\"TF-IDF Matrix:\")\n",
        "print(tfidf_matrix.toarray())\n",
        "\n",
        "# Print the feature names (words)\n",
        "print(\"\\nFeature Names:\")\n",
        "print(feature_names)"
      ]
    }
  ]
}